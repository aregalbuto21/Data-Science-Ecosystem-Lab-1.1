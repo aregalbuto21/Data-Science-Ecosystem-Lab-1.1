{
 "cells": [
  {
   "cell_type": "markdown",
   "id": "9db76d5c-6377-445f-956b-0a81f1ee3a8c",
   "metadata": {},
   "source": [
    "# Data Science Tools and Ecosystem"
   ]
  },
  {
   "cell_type": "markdown",
   "id": "b00a0d48-1897-4f66-8997-63b1b9dc9b01",
   "metadata": {},
   "source": [
    "#### In this notebook, Data Science Tools and Ecosystem are summarized."
   ]
  },
  {
   "cell_type": "markdown",
   "id": "c08789be-3bd0-49b8-b7f0-c60f1ce8b5ad",
   "metadata": {},
   "source": [
    "##### Objectives:"
   ]
  },
  {
   "cell_type": "markdown",
   "id": "45f873ba-5b95-46b8-974e-1349240a8767",
   "metadata": {},
   "source": [
    "* Popular languages used\n",
    "* Commonly used libraries\n",
    "* Data Science Tools Chart\n",
    "* Arithmetic in Python\n",
    "* Simple Math in python"
   ]
  },
  {
   "cell_type": "markdown",
   "id": "ef6ef8bc-dcaf-451f-9a95-765841d28f14",
   "metadata": {},
   "source": [
    "#### Some of the popular languages that Data Scientists use are:"
   ]
  },
  {
   "cell_type": "markdown",
   "id": "f470a08f-c0f6-432f-94d4-1d48450326f5",
   "metadata": {},
   "source": [
    "1. Python\n",
    "2. R\n",
    "3. SQL\n",
    "4. Java"
   ]
  },
  {
   "cell_type": "markdown",
   "id": "dd40c5d7-32cf-4046-9471-3519c91f0a68",
   "metadata": {},
   "source": [
    "#### Some of the commonly used libraries used by Data Scientists include:"
   ]
  },
  {
   "cell_type": "markdown",
   "id": "844bda6e-414a-4201-8d0f-278e5c21e532",
   "metadata": {},
   "source": [
    "1. Matplotlib\n",
    "2. Numpy\n",
    "3. Panda\n",
    "4. Ggplot2"
   ]
  },
  {
   "cell_type": "markdown",
   "id": "e43b1479-44df-43c0-85a1-6cc71613a6d9",
   "metadata": {},
   "source": [
    "| Data Science Tools |\n",
    "| :------------------: | \n",
    "| Project Jupyter |\n",
    "| RStudio |\n",
    "| Apache Hadoop|"
   ]
  },
  {
   "cell_type": "markdown",
   "id": "95072481-09c7-4982-9f7e-9d5bb538694f",
   "metadata": {},
   "source": [
    "### Below are a few examples of evaluating arithmetic expressions in Python:"
   ]
  },
  {
   "cell_type": "code",
   "execution_count": 20,
   "id": "7500da6c-9ecb-4120-983b-eb41d5a5556f",
   "metadata": {},
   "outputs": [
    {
     "name": "stdout",
     "output_type": "stream",
     "text": [
      "30\n"
     ]
    }
   ],
   "source": [
    "x=-10\n",
    "y=-20\n",
    "z=-y-x\n",
    "print(z)"
   ]
  },
  {
   "cell_type": "code",
   "execution_count": 22,
   "id": "fbcabc5f-9c5f-4dc9-814b-5ae167a39d3e",
   "metadata": {},
   "outputs": [
    {
     "data": {
      "text/plain": [
       "12"
      ]
     },
     "execution_count": 22,
     "metadata": {},
     "output_type": "execute_result"
    }
   ],
   "source": [
    "4*3"
   ]
  },
  {
   "cell_type": "code",
   "execution_count": 24,
   "id": "51a9395d-e876-416e-a8fd-b32efadb25c2",
   "metadata": {},
   "outputs": [
    {
     "data": {
      "text/plain": [
       "4.0"
      ]
     },
     "execution_count": 24,
     "metadata": {},
     "output_type": "execute_result"
    }
   ],
   "source": [
    "12/3"
   ]
  },
  {
   "cell_type": "markdown",
   "id": "437fd0c1-8c76-42d0-991e-54a9aa7049f1",
   "metadata": {},
   "source": [
    "#### This is a simply arithmetic expression to show the adding and multiplying of integers:"
   ]
  },
  {
   "cell_type": "code",
   "execution_count": 32,
   "id": "f02a51cb-17e4-433e-bc19-e5708b4f2947",
   "metadata": {},
   "outputs": [
    {
     "data": {
      "text/plain": [
       "17"
      ]
     },
     "execution_count": 32,
     "metadata": {},
     "output_type": "execute_result"
    }
   ],
   "source": [
    "(3*4)+5"
   ]
  },
  {
   "cell_type": "markdown",
   "id": "e92c2896-c5dc-477b-8041-53a25458caaf",
   "metadata": {},
   "source": [
    "#### This will convert 200 minutes to hours by dividing by 60 minutes:"
   ]
  },
  {
   "cell_type": "code",
   "execution_count": 36,
   "id": "a2783bf0-70db-43fd-9ae1-a9feddeaa826",
   "metadata": {},
   "outputs": [
    {
     "data": {
      "text/plain": [
       "3.3333333333333335"
      ]
     },
     "execution_count": 36,
     "metadata": {},
     "output_type": "execute_result"
    }
   ],
   "source": [
    "200/60"
   ]
  },
  {
   "cell_type": "markdown",
   "id": "1d3496c9-7beb-4701-a7b5-2ebb9daba59a",
   "metadata": {},
   "source": [
    "## Author"
   ]
  },
  {
   "cell_type": "markdown",
   "id": "c0dc10fb-5769-44d6-9d6c-cb8ae54a0c14",
   "metadata": {},
   "source": [
    "#### Anthony Regalbuto Jr."
   ]
  },
  {
   "cell_type": "code",
   "execution_count": null,
   "id": "05b5d5a2-f457-4717-8733-334e43e7e436",
   "metadata": {},
   "outputs": [],
   "source": []
  }
 ],
 "metadata": {
  "kernelspec": {
   "display_name": "Python 3 (ipykernel)",
   "language": "python",
   "name": "python3"
  },
  "language_info": {
   "codemirror_mode": {
    "name": "ipython",
    "version": 3
   },
   "file_extension": ".py",
   "mimetype": "text/x-python",
   "name": "python",
   "nbconvert_exporter": "python",
   "pygments_lexer": "ipython3",
   "version": "3.12.4"
  }
 },
 "nbformat": 4,
 "nbformat_minor": 5
}
